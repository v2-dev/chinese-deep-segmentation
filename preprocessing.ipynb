{
 "cells": [
  {
   "cell_type": "code",
   "execution_count": null,
   "metadata": {},
   "outputs": [],
   "source": [
    "'''Implement a preprocessing script (preprocess.py) that reads the original file in\n",
    "the training or gold folder and produce an input file with no spaces and a label\n",
    "file in the BIES format.'''"
   ]
  },
  {
   "cell_type": "code",
   "execution_count": 29,
   "metadata": {},
   "outputs": [],
   "source": [
    "import os\n",
    "import re\n",
    "#from sklearn.preprocessing import OneHotEncoder, LabelEncoder\n",
    "from sklearn import preprocessing"
   ]
  },
  {
   "cell_type": "code",
   "execution_count": 34,
   "metadata": {},
   "outputs": [],
   "source": [
    "def bies_tag(input_file, output_file):\n",
    "    with open(input_file) as input_data, open(output_file, 'w') as output_data:\n",
    "        for line in input_data:\n",
    "            word_list = line.strip().split()\n",
    "            for word in word_list:\n",
    "                if len(word) == 1 or (len(word) > 2 and word[0] == '<' and word[-1] == '>'):\n",
    "                    output_data.write(\"S\")\n",
    "                else:\n",
    "                    output_data.write(\"B\")\n",
    "                    for w in word[1:len(word) - 1]:\n",
    "                        output_data.write(\"I\")\n",
    "                    output_data.write(\"E\")\n",
    "            output_data.write(\"\\n\")\n",
    "            \n",
    "\n",
    "def normalize(ustring):\n",
    "    rstring = \"\"\n",
    "    for uchar in ustring:\n",
    "        inside_code = ord(uchar)\n",
    "        if inside_code == 12288:\n",
    "            inside_code = 32\n",
    "        elif 65281 <= inside_code <= 65374:\n",
    "            inside_code -= 65248\n",
    "\n",
    "        rstring += chr(inside_code)\n",
    "    return rstring\n",
    "            \n",
    "            \n",
    "def filter_before_tag(text):\n",
    "    #remove only n\n",
    "    text = normalize(text)\n",
    "    rNUM = u'(-|\\+)?\\d+((\\.|·)\\d+)?%?'\n",
    "    rENG = u'[A-Za-z_.]+'\n",
    "    non_eng = re.sub(rENG, '', text)\n",
    "    non_num = re.sub(rNUM, '', non_eng)\n",
    "    s = re.sub(\"[\\u3000\\t\\ax03]\", '', non_num)\n",
    "    return s\n",
    "\n",
    "\n",
    "\n",
    "def filter_after_tag(text):\n",
    "    s = text.replace(\" \", \"\")\n",
    "    #s = s.replace(\"\\n\", \"\")\n",
    "    return s\n",
    "\n",
    "\n",
    "\n",
    "def preprocess_before_tag(src, des, split_long_sentence=False):\n",
    "    with open(src) as src, open(des, 'w') as des:\n",
    "        for line in src:\n",
    "            sent = filter_before_tag(line)\n",
    "            des.write(sent)\n",
    "                # if len(''.join(sent)) > 200:\n",
    "                #     print(' '.join(sent))\n",
    "                \n",
    "        \n",
    "def preprocess_after_tag(src, des, split_long_sentence=False):\n",
    "    with open(src) as src, open(des, 'w') as des:\n",
    "        for line in src:\n",
    "            sent = filter_after_tag(line)\n",
    "            des.write(sent)\n",
    "            \n",
    "            \n",
    "            \n",
    "def getres_from_folder(filename, folder):\n",
    "    abs = os.getcwd()\n",
    "    res = abs + '/resources'\n",
    "    train = res + folder\n",
    "    sample_f = train + filename\n",
    "    return sample_f\n",
    "\n",
    "\n",
    "\n",
    "def encode_bies_labels(bies_file, bies_encoded_file):\n",
    "    with open(bies_file) as bies, open(bies_encoded_file, 'w') as encoded:\n",
    "        #use LabelEncoder class\n",
    "        token_list = []\n",
    "        le = preprocessing.LabelEncoder()\n",
    "        for line in bies:\n",
    "            bies_line = line.split()\n",
    "            for single in bies_line:\n",
    "                token_list.append(single)\n",
    "        le.fit(token_list)\n",
    "        encoded_list = le.transform(token_list)\n",
    "        for encoded_label in encoded_list:\n",
    "            encoded.write(str(encoded_label))\n",
    "            encoded.write(\"\\n\")"
   ]
  },
  {
   "cell_type": "code",
   "execution_count": 35,
   "metadata": {},
   "outputs": [],
   "source": [
    "datasets = [\"as_simpl_training.utf8\", \"cityu_simpl_training.utf8\", \"msr_training.utf8\", \"pku_training.utf8\"]"
   ]
  },
  {
   "cell_type": "code",
   "execution_count": 36,
   "metadata": {},
   "outputs": [
    {
     "name": "stdout",
     "output_type": "stream",
     "text": [
      "as_label.txt\n",
      "cityu_label.txt\n",
      "msr_label.txt\n",
      "pku_label.txt\n"
     ]
    }
   ],
   "source": [
    "for data in datasets:\n",
    "    appendix = data.split(\"_\")[0]\n",
    "    print((appendix + \"_\" + \"label.txt\"))"
   ]
  },
  {
   "cell_type": "code",
   "execution_count": 37,
   "metadata": {},
   "outputs": [],
   "source": [
    "#PREPROCESSING OF TRAINING DATA\n",
    "datasets = [\"as_simpl_training.utf8\"]\n",
    "#datasets = [\"as_simpl_training.utf8\", \"cityu_simpl_training.utf8\", \"msr_training.utf8\", \"pku_training.utf8\"]\n",
    "\n",
    "for data in datasets:\n",
    "    appendix = data.split(\"_\")[0]\n",
    "    labelname = appendix + \"_\" + \"label.txt\"\n",
    "    \n",
    "    train = getres_from_folder(data, '/training/')\n",
    "    sample_train = getres_from_folder('temp.utf8', '/training/')\n",
    "    L_train = getres_from_folder(labelname, '/training/clean/')\n",
    "    TRAIN = getres_from_folder(data, '/training/clean/')\n",
    "    enc_name = appendix + '_enc_label'\n",
    "    encoded_bies = getres_from_folder(enc_name, '/training/clean/')\n",
    "\n",
    "    preprocess_before_tag(train, sample_train)\n",
    "    bies_tag(sample_train, L_train)\n",
    "    preprocess_after_tag(sample_train, TRAIN)\n",
    "    \n",
    "    encode_bies_labels(L_train, encoded_bies)\n",
    "\n",
    "#da tenere: as_label ed as_train.utf8"
   ]
  },
  {
   "cell_type": "code",
   "execution_count": null,
   "metadata": {},
   "outputs": [],
   "source": []
  }
 ],
 "metadata": {
  "kernelspec": {
   "display_name": "Python 3",
   "language": "python",
   "name": "python3"
  },
  "language_info": {
   "codemirror_mode": {
    "name": "ipython",
    "version": 3
   },
   "file_extension": ".py",
   "mimetype": "text/x-python",
   "name": "python",
   "nbconvert_exporter": "python",
   "pygments_lexer": "ipython3",
   "version": "3.6.8"
  }
 },
 "nbformat": 4,
 "nbformat_minor": 2
}
